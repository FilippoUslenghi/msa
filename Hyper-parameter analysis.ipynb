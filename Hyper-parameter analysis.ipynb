{
 "cells": [
  {
   "cell_type": "code",
   "execution_count": 1,
   "id": "a8aa5f5c",
   "metadata": {},
   "outputs": [],
   "source": [
    "import numpy as np\n",
    "import pandas as pd\n",
    "import matplotlib.pyplot as plt\n",
    "import seaborn as sns"
   ]
  },
  {
   "cell_type": "code",
   "execution_count": 2,
   "id": "84f1a1c7",
   "metadata": {},
   "outputs": [
    {
     "data": {
      "text/html": [
       "<div>\n",
       "<style scoped>\n",
       "    .dataframe tbody tr th:only-of-type {\n",
       "        vertical-align: middle;\n",
       "    }\n",
       "\n",
       "    .dataframe tbody tr th {\n",
       "        vertical-align: top;\n",
       "    }\n",
       "\n",
       "    .dataframe thead th {\n",
       "        text-align: right;\n",
       "    }\n",
       "</style>\n",
       "<table border=\"1\" class=\"dataframe\">\n",
       "  <thead>\n",
       "    <tr style=\"text-align: right;\">\n",
       "      <th></th>\n",
       "      <th>filters coefficient</th>\n",
       "      <th>filters</th>\n",
       "      <th>kernel size</th>\n",
       "      <th>epochs</th>\n",
       "      <th>zero one loss</th>\n",
       "    </tr>\n",
       "  </thead>\n",
       "  <tbody>\n",
       "    <tr>\n",
       "      <th>0</th>\n",
       "      <td>same</td>\n",
       "      <td>16</td>\n",
       "      <td>3</td>\n",
       "      <td>10</td>\n",
       "      <td>505</td>\n",
       "    </tr>\n",
       "    <tr>\n",
       "      <th>1</th>\n",
       "      <td>same</td>\n",
       "      <td>16</td>\n",
       "      <td>3</td>\n",
       "      <td>15</td>\n",
       "      <td>443</td>\n",
       "    </tr>\n",
       "    <tr>\n",
       "      <th>2</th>\n",
       "      <td>same</td>\n",
       "      <td>16</td>\n",
       "      <td>3</td>\n",
       "      <td>20</td>\n",
       "      <td>428</td>\n",
       "    </tr>\n",
       "    <tr>\n",
       "      <th>3</th>\n",
       "      <td>same</td>\n",
       "      <td>16</td>\n",
       "      <td>5</td>\n",
       "      <td>10</td>\n",
       "      <td>513</td>\n",
       "    </tr>\n",
       "    <tr>\n",
       "      <th>4</th>\n",
       "      <td>same</td>\n",
       "      <td>16</td>\n",
       "      <td>5</td>\n",
       "      <td>15</td>\n",
       "      <td>510</td>\n",
       "    </tr>\n",
       "  </tbody>\n",
       "</table>\n",
       "</div>"
      ],
      "text/plain": [
       "  filters coefficient  filters  kernel size  epochs  zero one loss\n",
       "0                same       16            3      10            505\n",
       "1                same       16            3      15            443\n",
       "2                same       16            3      20            428\n",
       "3                same       16            5      10            513\n",
       "4                same       16            5      15            510"
      ]
     },
     "execution_count": 2,
     "metadata": {},
     "output_type": "execute_result"
    }
   ],
   "source": [
    "df = pd.read_json(\"results.json\")\n",
    "df = df.rename(columns={'filters_coeff': 'filters coefficient', 'n_filters': 'filters',\n",
    "                        'kernel_size': 'kernel size', 'n_epochs': 'epochs', \n",
    "                        'zero_one_loss': 'zero one loss'},)\n",
    "df.head()"
   ]
  },
  {
   "cell_type": "markdown",
   "id": "72bb4849",
   "metadata": {},
   "source": [
    "### Loss over the epochs used for training"
   ]
  },
  {
   "cell_type": "code",
   "execution_count": 3,
   "id": "72b5c59f",
   "metadata": {},
   "outputs": [
    {
     "data": {
      "image/png": "[encoded data removed]",
      "text/plain": [
       "<Figure size 360x360 with 1 Axes>"
      ]
     },
     "metadata": {
      "needs_background": "light"
     },
     "output_type": "display_data"
    }
   ],
   "source": [
    "g = sns.catplot(data=df, x='epochs', y='zero one loss', kind='bar', palette='colorblind',)\n",
    "g.set_axis_labels('Epochs', 'Zero-one loss')\n",
    "\n",
    "ax = g.facet_axis(0, 0)\n",
    "for c in ax.containers:\n",
    "    labels = [round(df.groupby('epochs')['zero one loss'].mean().values[i]) for i,v in enumerate(c)]\n",
    "    ax.bar_label(c, labels=labels, label_type='center', padding=3)\n",
    "    \n",
    "plt.show()"
   ]
  },
  {
   "cell_type": "markdown",
   "id": "b255e3de",
   "metadata": {},
   "source": [
    "### Loss over the number of filters used in the Conv2D layers"
   ]
  },
  {
   "cell_type": "code",
   "execution_count": 6,
   "id": "2d073948",
   "metadata": {},
   "outputs": [
    {
     "data": {
      "image/png": "[encoded data removed]",
      "text/plain": [
       "<Figure size 408.75x360 with 1 Axes>"
      ]
     },
     "metadata": {
      "needs_background": "light"
     },
     "output_type": "display_data"
    }
   ],
   "source": [
    "g = sns.catplot(data=df, x='filters coefficient', y='zero one loss', kind='bar', palette='colorblind', hue='filters', order=['incremental','same'])\n",
    "g.set_axis_labels('Filters', 'Zero-one loss')\n",
    "\n",
    "ax = g.facet_axis(0, 0)\n",
    "for i, c in enumerate(ax.containers):\n",
    "    labels = [round(df.groupby(['filters', 'filters coefficient'])['zero one loss']\n",
    "                    .mean().values[i*len(list(c))+j])\n",
    "              for j,_ in enumerate(c)]\n",
    "    ax.bar_label(c, labels=labels, label_type='center', padding=3)\n",
    "    \n",
    "plt.show()"
   ]
  },
  {
   "cell_type": "markdown",
   "id": "aa8c19ac",
   "metadata": {},
   "source": [
    "### Loss over the size of the kernel used in the Conv2D layer"
   ]
  },
  {
   "cell_type": "code",
   "execution_count": 7,
   "id": "2765e0e8",
   "metadata": {},
   "outputs": [
    {
     "data": {
      "image/png": "[encoded data removed]",
      "text/plain": [
       "<Figure size 360x360 with 1 Axes>"
      ]
     },
     "metadata": {
      "needs_background": "light"
     },
     "output_type": "display_data"
    }
   ],
   "source": [
    "g = sns.catplot(data=df, x='kernel size', y='zero one loss', kind='bar', palette='colorblind',)\n",
    "g.set_axis_labels('Kernel size', 'Zero-one loss')\n",
    "\n",
    "ax = g.facet_axis(0, 0)\n",
    "for c in ax.containers:\n",
    "    labels = [round(df.groupby(['kernel size'])['zero one loss'].mean().values[i])\n",
    "              for i,_ in enumerate(c)]\n",
    "    ax.bar_label(c, labels=labels, label_type='center', padding=3)\n",
    "    \n",
    "plt.show()"
   ]
  }
 ],
 "metadata": {
  "kernelspec": {
   "display_name": "Python 3 (ipykernel)",
   "language": "python",
   "name": "python3"
  },
  "language_info": {
   "codemirror_mode": {
    "name": "ipython",
    "version": 3
   },
   "file_extension": ".py",
   "mimetype": "text/x-python",
   "name": "python",
   "nbconvert_exporter": "python",
   "pygments_lexer": "ipython3",
   "version": "3.9.12"
  }
 },
 "nbformat": 4,
 "nbformat_minor": 5
}
