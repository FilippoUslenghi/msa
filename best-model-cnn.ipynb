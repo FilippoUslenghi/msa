{
 "cells": [
  {
   "cell_type": "code",
   "execution_count": 4,
   "id": "bf591b60",
   "metadata": {
    "execution": {
     "iopub.execute_input": "2022-07-20T14:08:01.784552Z",
     "iopub.status.busy": "2022-07-20T14:08:01.783109Z",
     "iopub.status.idle": "2022-07-20T14:08:07.589848Z",
     "shell.execute_reply": "2022-07-20T14:08:07.588321Z"
    },
    "executionInfo": {
     "elapsed": 11469,
     "status": "ok",
     "timestamp": 1657212338604,
     "user": {
      "displayName": "Filippo Uslenghi",
      "userId": "02060675236977838476"
     },
     "user_tz": -120
    },
    "id": "Z0mIezofgJgk",
    "papermill": {
     "duration": 7.555108,
     "end_time": "2022-07-20T14:08:07.594601",
     "exception": false,
     "start_time": "2022-07-20T14:08:00.039493",
     "status": "completed"
    },
    "pycharm": {
     "name": "#%%\n"
    },
    "tags": []
   },
   "outputs": [],
   "source": [
    "import json\n",
    "import os\n",
    "import gc\n",
    "from types import SimpleNamespace\n",
    "import pathlib\n",
    "import numpy as np\n",
    "from PIL import Image\n",
    "import tensorflow as tf"
   ]
  },
  {
   "cell_type": "code",
   "execution_count": 5,
   "id": "177376b3",
   "metadata": {
    "execution": {
     "iopub.execute_input": "2022-07-20T14:08:07.614377Z",
     "iopub.status.busy": "2022-07-20T14:08:07.613307Z",
     "iopub.status.idle": "2022-07-20T14:08:07.881872Z",
     "shell.execute_reply": "2022-07-20T14:08:07.880466Z"
    },
    "executionInfo": {
     "elapsed": 634,
     "status": "ok",
     "timestamp": 1657211842788,
     "user": {
      "displayName": "Filippo Uslenghi",
      "userId": "02060675236977838476"
     },
     "user_tz": -120
    },
    "id": "tORwxj72lLGt",
    "outputId": "e18916b4-e12a-4b9d-d567-e2469d1a3b82",
    "papermill": {
     "duration": 0.284062,
     "end_time": "2022-07-20T14:08:07.887232",
     "exception": false,
     "start_time": "2022-07-20T14:08:07.603170",
     "status": "completed"
    },
    "pycharm": {
     "name": "#%%\n"
    },
    "tags": []
   },
   "outputs": [
    {
     "name": "stdout",
     "output_type": "stream",
     "text": [
      "Images in the dataset: 24997\n"
     ]
    }
   ],
   "source": [
    "# Define the directory of the dataset\n",
    "data_dir = pathlib.Path('CatsDogs/')\n",
    "\n",
    "# Remove corrupted files\n",
    "os.system(\"rm CatsDogs/Cats/666.jpg CatsDogs/Dogs/11702.jpg CatsDogs/Dogs/11410.jpg\")\n",
    "\n",
    "# Collects the path of all the files within the dataset\n",
    "data_paths = [str(path) for path in list(data_dir.glob(\"*/*.jpg\"))]\n",
    "print(f\"Images in the dataset: {len(data_paths)}\")"
   ]
  },
  {
   "cell_type": "code",
   "execution_count": 6,
   "id": "e736a409",
   "metadata": {
    "execution": {
     "iopub.execute_input": "2022-07-20T14:08:07.906305Z",
     "iopub.status.busy": "2022-07-20T14:08:07.905784Z",
     "iopub.status.idle": "2022-07-20T14:08:14.711589Z",
     "shell.execute_reply": "2022-07-20T14:08:14.710301Z"
    },
    "papermill": {
     "duration": 6.81865,
     "end_time": "2022-07-20T14:08:14.714547",
     "exception": false,
     "start_time": "2022-07-20T14:08:07.895897",
     "status": "completed"
    },
    "tags": []
   },
   "outputs": [
    {
     "name": "stderr",
     "output_type": "stream",
     "text": [
      "/opt/conda/lib/python3.7/site-packages/PIL/TiffImagePlugin.py:845: UserWarning: Truncated File Read\n",
      "  warnings.warn(str(msg))\n"
     ]
    }
   ],
   "source": [
    "# Convert non-jpeg images into jpeg files\n",
    "formats = [(path, Image.open(path).format) for path in data_paths]\n",
    "non_jpegs = list(filter(lambda x: x[1]!='JPEG', formats))\n",
    "for path, _ in non_jpegs:\n",
    "    img = Image.open(path)\n",
    "    img.convert('RGB').save(path, format='JPEG')"
   ]
  },
  {
   "cell_type": "code",
   "execution_count": 7,
   "id": "c8836e75",
   "metadata": {
    "execution": {
     "iopub.execute_input": "2022-07-20T14:08:14.726940Z",
     "iopub.status.busy": "2022-07-20T14:08:14.726527Z",
     "iopub.status.idle": "2022-07-20T14:08:14.735024Z",
     "shell.execute_reply": "2022-07-20T14:08:14.733547Z"
    },
    "executionInfo": {
     "elapsed": 8,
     "status": "ok",
     "timestamp": 1657211850149,
     "user": {
      "displayName": "Filippo Uslenghi",
      "userId": "02060675236977838476"
     },
     "user_tz": -120
    },
    "id": "UImc8RD4Ejlh",
    "outputId": "07af990f-15e4-40a9-e5ac-a0f77611f792",
    "papermill": {
     "duration": 0.020146,
     "end_time": "2022-07-20T14:08:14.739923",
     "exception": false,
     "start_time": "2022-07-20T14:08:14.719777",
     "status": "completed"
    },
    "pycharm": {
     "name": "#%%\n"
    },
    "tags": []
   },
   "outputs": [
    {
     "name": "stdout",
     "output_type": "stream",
     "text": [
      "['Cats' 'Dogs']\n"
     ]
    }
   ],
   "source": [
    "# Get the class names\n",
    "class_names = np.array(sorted([item.name for item in data_dir.glob('*') if not item.name.startswith('.')]))\n",
    "print(class_names)"
   ]
  },
  {
   "cell_type": "code",
   "execution_count": 8,
   "id": "281ff9b9",
   "metadata": {
    "execution": {
     "iopub.execute_input": "2022-07-20T14:08:14.753380Z",
     "iopub.status.busy": "2022-07-20T14:08:14.752980Z",
     "iopub.status.idle": "2022-07-20T14:08:14.765830Z",
     "shell.execute_reply": "2022-07-20T14:08:14.764599Z"
    },
    "id": "arSQzIey-4D4",
    "papermill": {
     "duration": 0.021997,
     "end_time": "2022-07-20T14:08:14.768313",
     "exception": false,
     "start_time": "2022-07-20T14:08:14.746316",
     "status": "completed"
    },
    "pycharm": {
     "name": "#%%\n"
    },
    "tags": []
   },
   "outputs": [],
   "source": [
    "def get_label(file_path):\n",
    "    # Convert the path to a list of path components\n",
    "    parts = tf.strings.split(file_path, os.path.sep)\n",
    "    # The second to last is the class-directory\n",
    "    one_hot = parts[-2] == class_names\n",
    "    # Integer encode the label\n",
    "    return tf.argmax(one_hot)\n",
    "\n",
    "def decode_img(img):\n",
    "    # Convert the compressed string to a 3D uint8 tensor\n",
    "    img = tf.io.decode_jpeg(img, channels=3)\n",
    "    # Resize the image to the desired size\n",
    "    return tf.image.resize(img, [img_height, img_width])\n",
    "\n",
    "def process_path(file_path):\n",
    "    label = get_label(file_path)\n",
    "    # Load the raw data from the file as a string\n",
    "    img = tf.io.read_file(file_path)\n",
    "    img = decode_img(img)\n",
    "    return img, label\n",
    "\n",
    "# Configure dataset for performance\n",
    "def configure_for_performance(ds):\n",
    "    ds = ds.shuffle(buffer_size=1000)\n",
    "    ds = ds.batch(batch_size)\n",
    "    ds = ds.prefetch(buffer_size=tf.data.AUTOTUNE)\n",
    "    return ds\n",
    "\n",
    "def zero_one_loss(dataset, dataset_size):\n",
    "    \n",
    "    _, accuracy = model.evaluate(dataset)\n",
    "    zero_one_loss = dataset_size*(1-accuracy)\n",
    "\n",
    "    return int(round(zero_one_loss, ndigits=0))"
   ]
  },
  {
   "cell_type": "code",
   "execution_count": 9,
   "id": "152c18f1",
   "metadata": {
    "execution": {
     "iopub.execute_input": "2022-07-20T14:08:14.782090Z",
     "iopub.status.busy": "2022-07-20T14:08:14.779928Z",
     "iopub.status.idle": "2022-07-20T14:08:14.787940Z",
     "shell.execute_reply": "2022-07-20T14:08:14.786722Z"
    },
    "id": "VXF62vBlJj9e",
    "papermill": {
     "duration": 0.017233,
     "end_time": "2022-07-20T14:08:14.790861",
     "exception": false,
     "start_time": "2022-07-20T14:08:14.773628",
     "status": "completed"
    },
    "pycharm": {
     "name": "#%%\n"
    },
    "tags": []
   },
   "outputs": [],
   "source": [
    "# Set initial params for the loader\n",
    "batch_size = 64\n",
    "img_height = 256\n",
    "img_width = 256\n",
    "\n",
    "# Load hyper-parameters\n",
    "with open('best_model_results.json') as f:\n",
    "    best_model = json.load(f)\n",
    "\n",
    "\n",
    "hyper_parameters = SimpleNamespace(**best_model)"
   ]
  },
  {
   "cell_type": "markdown",
   "id": "84137fb8",
   "metadata": {
    "papermill": {
     "duration": 0.004887,
     "end_time": "2022-07-20T14:08:14.801197",
     "exception": false,
     "start_time": "2022-07-20T14:08:14.796310",
     "status": "completed"
    },
    "pycharm": {
     "name": "#%% md\n"
    },
    "tags": []
   },
   "source": [
    "# K-fold cross validation"
   ]
  },
  {
   "cell_type": "code",
   "execution_count": 10,
   "id": "3fee8658",
   "metadata": {
    "execution": {
     "iopub.execute_input": "2022-07-20T14:08:14.813176Z",
     "iopub.status.busy": "2022-07-20T14:08:14.812776Z",
     "iopub.status.idle": "2022-07-20T14:40:10.569181Z",
     "shell.execute_reply": "2022-07-20T14:40:10.567583Z"
    },
    "id": "69XJrMJsiR03",
    "papermill": {
     "duration": 1915.767363,
     "end_time": "2022-07-20T14:40:10.573586",
     "exception": false,
     "start_time": "2022-07-20T14:08:14.806223",
     "status": "completed"
    },
    "pycharm": {
     "name": "#%%\n"
    },
    "tags": []
   },
   "outputs": [
    {
     "name": "stderr",
     "output_type": "stream",
     "text": [
      "2022-07-20 14:08:15.592527: I tensorflow/stream_executor/cuda/cuda_gpu_executor.cc:937] successful NUMA node read from SysFS had negative value (-1), but there must be at least one NUMA node, so returning NUMA node zero\n",
      "2022-07-20 14:08:15.739786: I tensorflow/stream_executor/cuda/cuda_gpu_executor.cc:937] successful NUMA node read from SysFS had negative value (-1), but there must be at least one NUMA node, so returning NUMA node zero\n",
      "2022-07-20 14:08:15.741056: I tensorflow/stream_executor/cuda/cuda_gpu_executor.cc:937] successful NUMA node read from SysFS had negative value (-1), but there must be at least one NUMA node, so returning NUMA node zero\n",
      "2022-07-20 14:08:15.745279: I tensorflow/core/platform/cpu_feature_guard.cc:142] This TensorFlow binary is optimized with oneAPI Deep Neural Network Library (oneDNN) to use the following CPU instructions in performance-critical operations:  AVX2 FMA\n",
      "To enable them in other operations, rebuild TensorFlow with the appropriate compiler flags.\n",
      "2022-07-20 14:08:15.745848: I tensorflow/stream_executor/cuda/cuda_gpu_executor.cc:937] successful NUMA node read from SysFS had negative value (-1), but there must be at least one NUMA node, so returning NUMA node zero\n",
      "2022-07-20 14:08:15.747132: I tensorflow/stream_executor/cuda/cuda_gpu_executor.cc:937] successful NUMA node read from SysFS had negative value (-1), but there must be at least one NUMA node, so returning NUMA node zero\n",
      "2022-07-20 14:08:15.748272: I tensorflow/stream_executor/cuda/cuda_gpu_executor.cc:937] successful NUMA node read from SysFS had negative value (-1), but there must be at least one NUMA node, so returning NUMA node zero\n",
      "2022-07-20 14:08:18.435533: I tensorflow/stream_executor/cuda/cuda_gpu_executor.cc:937] successful NUMA node read from SysFS had negative value (-1), but there must be at least one NUMA node, so returning NUMA node zero\n",
      "2022-07-20 14:08:18.436738: I tensorflow/stream_executor/cuda/cuda_gpu_executor.cc:937] successful NUMA node read from SysFS had negative value (-1), but there must be at least one NUMA node, so returning NUMA node zero\n",
      "2022-07-20 14:08:18.437799: I tensorflow/stream_executor/cuda/cuda_gpu_executor.cc:937] successful NUMA node read from SysFS had negative value (-1), but there must be at least one NUMA node, so returning NUMA node zero\n",
      "2022-07-20 14:08:18.438733: I tensorflow/core/common_runtime/gpu/gpu_device.cc:1510] Created device /job:localhost/replica:0/task:0/device:GPU:0 with 15403 MB memory:  -> device: 0, name: Tesla P100-PCIE-16GB, pci bus id: 0000:00:04.0, compute capability: 6.0\n",
      "2022-07-20 14:08:21.263567: I tensorflow/compiler/mlir/mlir_graph_optimization_pass.cc:185] None of the MLIR Optimization Passes are enabled (registered 2)\n",
      "2022-07-20 14:08:23.788138: I tensorflow/stream_executor/cuda/cuda_dnn.cc:369] Loaded cuDNN version 8005\n",
      "Warning: unknown JFIF revision number 0.00\n",
      "Corrupt JPEG data: 1403 extraneous bytes before marker 0xd9\n",
      "Corrupt JPEG data: 252 extraneous bytes before marker 0xd9\n",
      "Corrupt JPEG data: 128 extraneous bytes before marker 0xd9\n",
      "Corrupt JPEG data: 162 extraneous bytes before marker 0xd9\n",
      "Corrupt JPEG data: 228 extraneous bytes before marker 0xd9\n",
      "Corrupt JPEG data: 65 extraneous bytes before marker 0xd9\n",
      "Corrupt JPEG data: 2226 extraneous bytes before marker 0xd9\n",
      "Corrupt JPEG data: 396 extraneous bytes before marker 0xd9\n",
      "Corrupt JPEG data: 214 extraneous bytes before marker 0xd9\n"
     ]
    },
    {
     "name": "stdout",
     "output_type": "stream",
     "text": [
      "18/79 [=====>........................] - ETA: 6s - loss: 1.1588 - accuracy: 0.7986"
     ]
    },
    {
     "name": "stderr",
     "output_type": "stream",
     "text": [
      "Corrupt JPEG data: 99 extraneous bytes before marker 0xd9\n"
     ]
    },
    {
     "name": "stdout",
     "output_type": "stream",
     "text": [
      "28/79 [=========>....................] - ETA: 5s - loss: 1.1134 - accuracy: 0.8058"
     ]
    },
    {
     "name": "stderr",
     "output_type": "stream",
     "text": [
      "Corrupt JPEG data: 239 extraneous bytes before marker 0xd9\n"
     ]
    },
    {
     "name": "stdout",
     "output_type": "stream",
     "text": [
      "55/79 [===================>..........] - ETA: 2s - loss: 1.1331 - accuracy: 0.8136"
     ]
    },
    {
     "name": "stderr",
     "output_type": "stream",
     "text": [
      "Corrupt JPEG data: 1153 extraneous bytes before marker 0xd9\n"
     ]
    },
    {
     "name": "stdout",
     "output_type": "stream",
     "text": [
      "79/79 [==============================] - 8s 83ms/step - loss: 1.1246 - accuracy: 0.8164\n",
      "Zero-one loss: 918\n"
     ]
    },
    {
     "name": "stderr",
     "output_type": "stream",
     "text": [
      "Corrupt JPEG data: 239 extraneous bytes before marker 0xd9\n",
      "Corrupt JPEG data: 1153 extraneous bytes before marker 0xd9\n",
      "Corrupt JPEG data: 99 extraneous bytes before marker 0xd9\n",
      "Corrupt JPEG data: 252 extraneous bytes before marker 0xd9\n",
      "Corrupt JPEG data: 1403 extraneous bytes before marker 0xd9\n",
      "Warning: unknown JFIF revision number 0.00\n",
      "Corrupt JPEG data: 2226 extraneous bytes before marker 0xd9\n",
      "Corrupt JPEG data: 162 extraneous bytes before marker 0xd9\n"
     ]
    },
    {
     "name": "stdout",
     "output_type": "stream",
     "text": [
      " 1/79 [..............................] - ETA: 1:48 - loss: 1.6922 - accuracy: 0.6875"
     ]
    },
    {
     "name": "stderr",
     "output_type": "stream",
     "text": [
      "Corrupt JPEG data: 228 extraneous bytes before marker 0xd9\n"
     ]
    },
    {
     "name": "stdout",
     "output_type": "stream",
     "text": [
      "19/79 [======>.......................] - ETA: 5s - loss: 1.5008 - accuracy: 0.7993"
     ]
    },
    {
     "name": "stderr",
     "output_type": "stream",
     "text": [
      "Corrupt JPEG data: 214 extraneous bytes before marker 0xd9\n"
     ]
    },
    {
     "name": "stdout",
     "output_type": "stream",
     "text": [
      "25/79 [========>.....................] - ETA: 5s - loss: 1.4882 - accuracy: 0.8000"
     ]
    },
    {
     "name": "stderr",
     "output_type": "stream",
     "text": [
      "Corrupt JPEG data: 128 extraneous bytes before marker 0xd9\n"
     ]
    },
    {
     "name": "stdout",
     "output_type": "stream",
     "text": [
      "28/79 [=========>....................] - ETA: 4s - loss: 1.4435 - accuracy: 0.7985"
     ]
    },
    {
     "name": "stderr",
     "output_type": "stream",
     "text": [
      "Corrupt JPEG data: 65 extraneous bytes before marker 0xd9\n"
     ]
    },
    {
     "name": "stdout",
     "output_type": "stream",
     "text": [
      "70/79 [=========================>....] - ETA: 0s - loss: 1.2747 - accuracy: 0.8083"
     ]
    },
    {
     "name": "stderr",
     "output_type": "stream",
     "text": [
      "Corrupt JPEG data: 396 extraneous bytes before marker 0xd9\n"
     ]
    },
    {
     "name": "stdout",
     "output_type": "stream",
     "text": [
      "79/79 [==============================] - 9s 94ms/step - loss: 1.2793 - accuracy: 0.8064\n",
      "Zero-one loss: 968\n"
     ]
    },
    {
     "name": "stderr",
     "output_type": "stream",
     "text": [
      "Corrupt JPEG data: 396 extraneous bytes before marker 0xd9\n",
      "Corrupt JPEG data: 2226 extraneous bytes before marker 0xd9\n",
      "Corrupt JPEG data: 65 extraneous bytes before marker 0xd9\n",
      "Corrupt JPEG data: 162 extraneous bytes before marker 0xd9\n",
      "Corrupt JPEG data: 228 extraneous bytes before marker 0xd9\n",
      "Corrupt JPEG data: 1153 extraneous bytes before marker 0xd9\n",
      "Corrupt JPEG data: 214 extraneous bytes before marker 0xd9\n",
      "Corrupt JPEG data: 239 extraneous bytes before marker 0xd9\n",
      "Corrupt JPEG data: 252 extraneous bytes before marker 0xd9\n",
      "Corrupt JPEG data: 99 extraneous bytes before marker 0xd9\n",
      "Corrupt JPEG data: 128 extraneous bytes before marker 0xd9\n"
     ]
    },
    {
     "name": "stdout",
     "output_type": "stream",
     "text": [
      " 6/79 [=>............................] - ETA: 6s - loss: 1.1383 - accuracy: 0.8359"
     ]
    },
    {
     "name": "stderr",
     "output_type": "stream",
     "text": [
      "Corrupt JPEG data: 1403 extraneous bytes before marker 0xd9\n"
     ]
    },
    {
     "name": "stdout",
     "output_type": "stream",
     "text": [
      "42/79 [==============>...............] - ETA: 3s - loss: 1.0219 - accuracy: 0.8475"
     ]
    },
    {
     "name": "stderr",
     "output_type": "stream",
     "text": [
      "Warning: unknown JFIF revision number 0.00\n"
     ]
    },
    {
     "name": "stdout",
     "output_type": "stream",
     "text": [
      "79/79 [==============================] - 8s 84ms/step - loss: 1.0151 - accuracy: 0.8350\n",
      "Zero-one loss: 825\n"
     ]
    },
    {
     "name": "stderr",
     "output_type": "stream",
     "text": [
      "Corrupt JPEG data: 228 extraneous bytes before marker 0xd9\n",
      "Corrupt JPEG data: 214 extraneous bytes before marker 0xd9\n",
      "Corrupt JPEG data: 65 extraneous bytes before marker 0xd9\n",
      "Corrupt JPEG data: 1403 extraneous bytes before marker 0xd9\n",
      "Corrupt JPEG data: 1153 extraneous bytes before marker 0xd9\n",
      "Corrupt JPEG data: 239 extraneous bytes before marker 0xd9\n",
      "Corrupt JPEG data: 128 extraneous bytes before marker 0xd9\n",
      "Corrupt JPEG data: 99 extraneous bytes before marker 0xd9\n",
      "Corrupt JPEG data: 252 extraneous bytes before marker 0xd9\n",
      "Corrupt JPEG data: 2226 extraneous bytes before marker 0xd9\n",
      "Warning: unknown JFIF revision number 0.00\n",
      "Corrupt JPEG data: 396 extraneous bytes before marker 0xd9\n"
     ]
    },
    {
     "name": "stdout",
     "output_type": "stream",
     "text": [
      "59/79 [=====================>........] - ETA: 1s - loss: 1.3160 - accuracy: 0.8162"
     ]
    },
    {
     "name": "stderr",
     "output_type": "stream",
     "text": [
      "Corrupt JPEG data: 162 extraneous bytes before marker 0xd9\n"
     ]
    },
    {
     "name": "stdout",
     "output_type": "stream",
     "text": [
      "79/79 [==============================] - 8s 81ms/step - loss: 1.3445 - accuracy: 0.8198\n",
      "Zero-one loss: 901\n"
     ]
    },
    {
     "name": "stderr",
     "output_type": "stream",
     "text": [
      "Corrupt JPEG data: 228 extraneous bytes before marker 0xd9\n",
      "Corrupt JPEG data: 162 extraneous bytes before marker 0xd9\n",
      "Corrupt JPEG data: 239 extraneous bytes before marker 0xd9\n",
      "Corrupt JPEG data: 396 extraneous bytes before marker 0xd9\n",
      "Corrupt JPEG data: 65 extraneous bytes before marker 0xd9\n",
      "Corrupt JPEG data: 214 extraneous bytes before marker 0xd9\n",
      "Warning: unknown JFIF revision number 0.00\n",
      "Corrupt JPEG data: 1153 extraneous bytes before marker 0xd9\n",
      "Corrupt JPEG data: 1403 extraneous bytes before marker 0xd9\n",
      "Corrupt JPEG data: 99 extraneous bytes before marker 0xd9\n",
      "Corrupt JPEG data: 128 extraneous bytes before marker 0xd9\n"
     ]
    },
    {
     "name": "stdout",
     "output_type": "stream",
     "text": [
      "17/79 [=====>........................] - ETA: 5s - loss: 1.3953 - accuracy: 0.7950"
     ]
    },
    {
     "name": "stderr",
     "output_type": "stream",
     "text": [
      "Corrupt JPEG data: 252 extraneous bytes before marker 0xd9\n"
     ]
    },
    {
     "name": "stdout",
     "output_type": "stream",
     "text": [
      "28/79 [=========>....................] - ETA: 4s - loss: 1.2470 - accuracy: 0.8008"
     ]
    },
    {
     "name": "stderr",
     "output_type": "stream",
     "text": [
      "Corrupt JPEG data: 2226 extraneous bytes before marker 0xd9\n"
     ]
    },
    {
     "name": "stdout",
     "output_type": "stream",
     "text": [
      "79/79 [==============================] - 8s 77ms/step - loss: 1.2183 - accuracy: 0.8118\n",
      "Zero-one loss: 941\n"
     ]
    }
   ],
   "source": [
    "from sklearn.model_selection import KFold\n",
    "\n",
    "\n",
    "k_fold = KFold(n_splits=5, shuffle=True)\n",
    "k_splits = k_fold.split(data_paths)\n",
    "results = []\n",
    "\n",
    "for train_index, test_index in k_splits:\n",
    "\n",
    "    # Get the paths to the data\n",
    "    train_paths = np.asarray(data_paths)[train_index]\n",
    "    test_paths = np.asarray(data_paths)[test_index]\n",
    "\n",
    "    # Make it tf.data.Dataset\n",
    "    train = tf.data.Dataset.from_tensor_slices(train_paths)\n",
    "    test = tf.data.Dataset.from_tensor_slices(test_paths)\n",
    "\n",
    "    # Shuffle the dataset\n",
    "    train = train.shuffle(len(train))\n",
    "    test = test.shuffle(len(test))\n",
    "\n",
    "    # Get labels\n",
    "    train = train.map(process_path, num_parallel_calls=tf.data.AUTOTUNE)\n",
    "    test = test.map(process_path, num_parallel_calls=tf.data.AUTOTUNE)\n",
    "    \n",
    "    # Configure for performance\n",
    "    train = configure_for_performance(train)\n",
    "    test = configure_for_performance(test)\n",
    "\n",
    "    # Create the model\n",
    "    model = tf.keras.Sequential([\n",
    "        tf.keras.layers.Rescaling(1./255),\n",
    "        tf.keras.layers.Conv2D(hyper_parameters.n_filters, hyper_parameters.kernel_size, activation=tf.nn.relu, input_shape=(img_height, img_width, 3)),\n",
    "        tf.keras.layers.MaxPooling2D(),\n",
    "        tf.keras.layers.Conv2D(hyper_parameters.n_filters * (1, 2)[hyper_parameters.filters_coeff=='incremental'], hyper_parameters.kernel_size, activation=tf.nn.relu),\n",
    "        tf.keras.layers.MaxPooling2D(),\n",
    "        tf.keras.layers.Conv2D(hyper_parameters.n_filters * (1, 4)[hyper_parameters.filters_coeff=='incremental'], hyper_parameters.kernel_size, activation=tf.nn.relu),\n",
    "        tf.keras.layers.MaxPooling2D(),\n",
    "        tf.keras.layers.Flatten(),\n",
    "        tf.keras.layers.Dense(256, activation=tf.nn.relu),\n",
    "        tf.keras.layers.Dense(1, activation='sigmoid')\n",
    "    ])\n",
    "    \n",
    "    model.compile(\n",
    "        optimizer='adam',\n",
    "        loss='binary_crossentropy',\n",
    "        metrics=['accuracy']\n",
    "    )\n",
    "\n",
    "    model.fit(\n",
    "        train,\n",
    "        epochs=hyper_parameters.n_epochs,\n",
    "        verbose=0,\n",
    "    )\n",
    "\n",
    "    loss = zero_one_loss(test, len(test_paths))\n",
    "    results.append(loss)\n",
    "    print(f\"Zero-one loss: {loss}\")\n",
    "\n",
    "    # Clear any previous state\n",
    "    del model\n",
    "    tf.keras.backend.clear_session()\n",
    "    gc.collect()"
   ]
  },
  {
   "cell_type": "code",
   "execution_count": 11,
   "id": "88c22a8e",
   "metadata": {
    "execution": {
     "iopub.execute_input": "2022-07-20T14:40:10.645973Z",
     "iopub.status.busy": "2022-07-20T14:40:10.644348Z",
     "iopub.status.idle": "2022-07-20T14:40:10.669459Z",
     "shell.execute_reply": "2022-07-20T14:40:10.668333Z"
    },
    "id": "Z5LsUvuXDG9g",
    "papermill": {
     "duration": 0.064555,
     "end_time": "2022-07-20T14:40:10.672211",
     "exception": false,
     "start_time": "2022-07-20T14:40:10.607656",
     "status": "completed"
    },
    "pycharm": {
     "name": "#%%\n"
    },
    "tags": []
   },
   "outputs": [
    {
     "name": "stdout",
     "output_type": "stream",
     "text": [
      "The mean of zero-one loss is 911, with a standard deviation of 48 missmatched samples\n"
     ]
    }
   ],
   "source": [
    "mean_loss = np.round(np.mean(results), decimals=0)\n",
    "std_loss = np.round(np.std(results), decimals=0)\n",
    "print(f'The mean of zero-one loss is {int(mean_loss)}, with a standard deviation of {int(std_loss)} missmatched samples')"
   ]
  }
 ],
 "metadata": {
  "kernelspec": {
   "display_name": "Python 3.8.13 ('audio2')",
   "language": "python",
   "name": "python3"
  },
  "language_info": {
   "codemirror_mode": {
    "name": "ipython",
    "version": 3
   },
   "file_extension": ".py",
   "mimetype": "text/x-python",
   "name": "python",
   "nbconvert_exporter": "python",
   "pygments_lexer": "ipython3",
   "version": "3.8.13"
  },
  "papermill": {
   "default_parameters": {},
   "duration": 1991.683428,
   "end_time": "2022-07-20T14:40:14.875868",
   "environment_variables": {},
   "exception": null,
   "input_path": "__notebook__.ipynb",
   "output_path": "__notebook__.ipynb",
   "parameters": {},
   "start_time": "2022-07-20T14:07:03.192440",
   "version": "2.3.4"
  },
  "vscode": {
   "interpreter": {
    "hash": "e2f4808f3cb662d264b688fcdafc403f32cc11f6f502b44dddc2fe8331465723"
   }
  }
 },
 "nbformat": 4,
 "nbformat_minor": 5
}
