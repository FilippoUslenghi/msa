{
 "cells": [
  {
   "cell_type": "markdown",
   "id": "eb380d77-3c47-4713-bfd5-81325495e378",
   "metadata": {},
   "source": [
    "# Internal cross validation results"
   ]
  },
  {
   "cell_type": "code",
   "execution_count": 1,
   "id": "a8aa5f5c",
   "metadata": {},
   "outputs": [],
   "source": [
    "import numpy as np\n",
    "import pandas as pd\n",
    "import matplotlib.pyplot as plt\n",
    "import seaborn as sns"
   ]
  },
  {
   "cell_type": "code",
   "execution_count": 2,
   "id": "84f1a1c7",
   "metadata": {},
   "outputs": [
    {
     "data": {
      "text/html": [
       "<div>\n",
       "<style scoped>\n",
       "    .dataframe tbody tr th:only-of-type {\n",
       "        vertical-align: middle;\n",
       "    }\n",
       "\n",
       "    .dataframe tbody tr th {\n",
       "        vertical-align: top;\n",
       "    }\n",
       "\n",
       "    .dataframe thead th {\n",
       "        text-align: right;\n",
       "    }\n",
       "</style>\n",
       "<table border=\"1\" class=\"dataframe\">\n",
       "  <thead>\n",
       "    <tr style=\"text-align: right;\">\n",
       "      <th></th>\n",
       "      <th>filters coefficient</th>\n",
       "      <th>filters</th>\n",
       "      <th>kernel size</th>\n",
       "      <th>epochs</th>\n",
       "      <th>zero one loss</th>\n",
       "    </tr>\n",
       "  </thead>\n",
       "  <tbody>\n",
       "    <tr>\n",
       "      <th>0</th>\n",
       "      <td>same</td>\n",
       "      <td>16</td>\n",
       "      <td>3</td>\n",
       "      <td>10</td>\n",
       "      <td>505</td>\n",
       "    </tr>\n",
       "    <tr>\n",
       "      <th>1</th>\n",
       "      <td>same</td>\n",
       "      <td>16</td>\n",
       "      <td>3</td>\n",
       "      <td>15</td>\n",
       "      <td>443</td>\n",
       "    </tr>\n",
       "    <tr>\n",
       "      <th>2</th>\n",
       "      <td>same</td>\n",
       "      <td>16</td>\n",
       "      <td>3</td>\n",
       "      <td>20</td>\n",
       "      <td>428</td>\n",
       "    </tr>\n",
       "    <tr>\n",
       "      <th>3</th>\n",
       "      <td>same</td>\n",
       "      <td>16</td>\n",
       "      <td>5</td>\n",
       "      <td>10</td>\n",
       "      <td>513</td>\n",
       "    </tr>\n",
       "    <tr>\n",
       "      <th>4</th>\n",
       "      <td>same</td>\n",
       "      <td>16</td>\n",
       "      <td>5</td>\n",
       "      <td>15</td>\n",
       "      <td>510</td>\n",
       "    </tr>\n",
       "  </tbody>\n",
       "</table>\n",
       "</div>"
      ],
      "text/plain": [
       "  filters coefficient  filters  kernel size  epochs  zero one loss\n",
       "0                same       16            3      10            505\n",
       "1                same       16            3      15            443\n",
       "2                same       16            3      20            428\n",
       "3                same       16            5      10            513\n",
       "4                same       16            5      15            510"
      ]
     },
     "execution_count": 2,
     "metadata": {},
     "output_type": "execute_result"
    }
   ],
   "source": [
    "df = pd.read_json(\"results.json\")\n",
    "df = df.rename(columns={'filters_coeff': 'filters coefficient', 'n_filters': 'filters',\n",
    "                        'kernel_size': 'kernel size', 'n_epochs': 'epochs', \n",
    "                        'zero_one_loss': 'zero one loss'},)\n",
    "df.head()"
   ]
  },
  {
   "cell_type": "markdown",
   "id": "72bb4849",
   "metadata": {},
   "source": [
    "### Loss over the epochs used for training"
   ]
  },
  {
   "cell_type": "code",
   "execution_count": 72,
   "id": "72b5c59f",
   "metadata": {},
   "outputs": [
    {
     "data": {
      "image/png": "[encoded data removed]",
      "text/plain": [
       "<Figure size 360x360 with 1 Axes>"
      ]
     },
     "metadata": {
      "needs_background": "light"
     },
     "output_type": "display_data"
    }
   ],
   "source": [
    "g = sns.catplot(data=df, x='epochs', y='zero one loss', kind='box', palette='colorblind')\n",
    "g.set_axis_labels('Epochs', 'Zero-one loss')\n",
    "\n",
    "plt.show()"
   ]
  },
  {
   "cell_type": "markdown",
   "id": "b255e3de",
   "metadata": {},
   "source": [
    "### Loss over the number of filters used in the Conv2D layers"
   ]
  },
  {
   "cell_type": "code",
   "execution_count": 61,
   "id": "2d073948",
   "metadata": {},
   "outputs": [
    {
     "data": {
      "image/png": "[encoded data removed]",
      "text/plain": [
       "<Figure size 408.75x360 with 1 Axes>"
      ]
     },
     "metadata": {
      "needs_background": "light"
     },
     "output_type": "display_data"
    }
   ],
   "source": [
    "g = sns.catplot(data=df, x='filters coefficient', y='zero one loss', kind='box', palette='colorblind', hue='filters')\n",
    "g.set_axis_labels('Filters coefficient', 'Zero-one loss')\n",
    "g._legend.set_title('Filters')\n",
    "\n",
    "plt.show()"
   ]
  },
  {
   "cell_type": "code",
   "execution_count": 56,
   "id": "e0b41219",
   "metadata": {},
   "outputs": [
    {
     "data": {
      "image/png": "[encoded data removed]",
      "text/plain": [
       "<Figure size 455.75x360 with 1 Axes>"
      ]
     },
     "metadata": {
      "needs_background": "light"
     },
     "output_type": "display_data"
    }
   ],
   "source": [
    "g = sns.catplot(data=df, x='filters', y='zero one loss', kind='box', palette='colorblind', hue='filters coefficient')\n",
    "g.set_axis_labels('Filters', 'Zero-one loss')\n",
    "g._legend.set_title('Filters coefficient')\n",
    "    \n",
    "plt.show()"
   ]
  },
  {
   "cell_type": "code",
   "execution_count": 60,
   "id": "2765e0e8",
   "metadata": {},
   "outputs": [
    {
     "data": {
      "image/png": "[encoded data removed]",
      "text/plain": [
       "<Figure size 360x360 with 1 Axes>"
      ]
     },
     "metadata": {
      "needs_background": "light"
     },
     "output_type": "display_data"
    }
   ],
   "source": [
    "g = sns.catplot(data=df, x='kernel size', y='zero one loss', kind='box', palette='colorblind')\n",
    "g.set_axis_labels('Kernel size', 'Zero-one loss')\n",
    "\n",
    "plt.show()"
   ]
  },
  {
   "cell_type": "markdown",
   "id": "30e09721-9a22-4143-8901-d90dab94f776",
   "metadata": {},
   "source": [
    "# 5-fold cross validation results"
   ]
  },
  {
   "cell_type": "code",
   "execution_count": 1,
   "id": "c100b1d2-0974-483c-8e5c-9f9dc9dbaff5",
   "metadata": {},
   "outputs": [],
   "source": [
    "import pandas as pd\n",
    "import matplotlib.pyplot as plt\n",
    "import seaborn as sns"
   ]
  },
  {
   "cell_type": "code",
   "execution_count": 5,
   "id": "30057b19-ac4e-4965-8e76-3b54ba03a940",
   "metadata": {},
   "outputs": [],
   "source": [
    "data = {'Too simple CNN': [3865, 1406],\n",
    "        'Simple CNN': [1600, 209],\n",
    "        'Best model': [1044, 41],\n",
    "        'Best model regularized': [841, 84],\n",
    "        'VGG16': [115, 9]}"
   ]
  },
  {
   "cell_type": "code",
   "execution_count": 6,
   "id": "e1636c4d-0a9c-467d-b5d1-030b86e7e70d",
   "metadata": {},
   "outputs": [
    {
     "data": {
      "text/html": [
       "<div>\n",
       "<style scoped>\n",
       "    .dataframe tbody tr th:only-of-type {\n",
       "        vertical-align: middle;\n",
       "    }\n",
       "\n",
       "    .dataframe tbody tr th {\n",
       "        vertical-align: top;\n",
       "    }\n",
       "\n",
       "    .dataframe thead th {\n",
       "        text-align: right;\n",
       "    }\n",
       "</style>\n",
       "<table border=\"1\" class=\"dataframe\">\n",
       "  <thead>\n",
       "    <tr style=\"text-align: right;\">\n",
       "      <th></th>\n",
       "      <th>Models</th>\n",
       "      <th>Mean zero one loss</th>\n",
       "      <th>std zero one loss</th>\n",
       "    </tr>\n",
       "  </thead>\n",
       "  <tbody>\n",
       "    <tr>\n",
       "      <th>0</th>\n",
       "      <td>Too simple CNN</td>\n",
       "      <td>3865</td>\n",
       "      <td>1406</td>\n",
       "    </tr>\n",
       "    <tr>\n",
       "      <th>1</th>\n",
       "      <td>Simple CNN</td>\n",
       "      <td>1600</td>\n",
       "      <td>209</td>\n",
       "    </tr>\n",
       "    <tr>\n",
       "      <th>2</th>\n",
       "      <td>Best model</td>\n",
       "      <td>1044</td>\n",
       "      <td>41</td>\n",
       "    </tr>\n",
       "    <tr>\n",
       "      <th>3</th>\n",
       "      <td>Best model regularized</td>\n",
       "      <td>841</td>\n",
       "      <td>84</td>\n",
       "    </tr>\n",
       "    <tr>\n",
       "      <th>4</th>\n",
       "      <td>VGG16</td>\n",
       "      <td>115</td>\n",
       "      <td>9</td>\n",
       "    </tr>\n",
       "  </tbody>\n",
       "</table>\n",
       "</div>"
      ],
      "text/plain": [
       "                   Models  Mean zero one loss  std zero one loss\n",
       "0          Too simple CNN                3865               1406\n",
       "1              Simple CNN                1600                209\n",
       "2              Best model                1044                 41\n",
       "3  Best model regularized                 841                 84\n",
       "4                   VGG16                 115                  9"
      ]
     },
     "execution_count": 6,
     "metadata": {},
     "output_type": "execute_result"
    }
   ],
   "source": [
    "df = pd.DataFrame.from_dict(data=data, orient='index', columns=['Mean zero one loss', 'std zero one loss'])\n",
    "df = df.reset_index().rename(columns={'index': 'Models'})\n",
    "df"
   ]
  },
  {
   "cell_type": "code",
   "execution_count": 7,
   "id": "a3fd60bc-f89b-4763-9abe-e40debf82234",
   "metadata": {},
   "outputs": [
    {
     "data": {
      "image/png": "[encoded data removed]",
      "text/plain": [
       "<Figure size 640x360 with 1 Axes>"
      ]
     },
     "metadata": {},
     "output_type": "display_data"
    }
   ],
   "source": [
    "sns.set_theme(style=\"whitegrid\")\n",
    "g = sns.FacetGrid(data=df, height=5, aspect=16/9, palette=\"YlGnBu_d\")\n",
    "g.map(plt.errorbar, \"Models\", \"Mean zero one loss\", \"std zero one loss\", marker=\"o\")\n",
    "g.despine(left=True, bottom=True)\n",
    "\n",
    "# plt.savefig('results.png', dpi=100)\n",
    "plt.show()"
   ]
  }
 ],
 "metadata": {
  "kernelspec": {
   "display_name": "Python 3.8.13 ('audio2')",
   "language": "python",
   "name": "python3"
  },
  "language_info": {
   "codemirror_mode": {
    "name": "ipython",
    "version": 3
   },
   "file_extension": ".py",
   "mimetype": "text/x-python",
   "name": "python",
   "nbconvert_exporter": "python",
   "pygments_lexer": "ipython3",
   "version": "3.8.13"
  },
  "vscode": {
   "interpreter": {
    "hash": "e2f4808f3cb662d264b688fcdafc403f32cc11f6f502b44dddc2fe8331465723"
   }
  }
 },
 "nbformat": 4,
 "nbformat_minor": 5
}
