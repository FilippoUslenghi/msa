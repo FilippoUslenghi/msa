{
 "cells": [
  {
   "cell_type": "code",
   "execution_count": 4,
   "id": "bf591b60",
   "metadata": {
    "execution": {
     "iopub.execute_input": "2022-07-21T12:56:07.166388Z",
     "iopub.status.busy": "2022-07-21T12:56:07.165939Z",
     "iopub.status.idle": "2022-07-21T12:56:11.333995Z",
     "shell.execute_reply": "2022-07-21T12:56:11.332831Z"
    },
    "executionInfo": {
     "elapsed": 11469,
     "status": "ok",
     "timestamp": 1657212338604,
     "user": {
      "displayName": "Filippo Uslenghi",
      "userId": "02060675236977838476"
     },
     "user_tz": -120
    },
    "id": "Z0mIezofgJgk",
    "papermill": {
     "duration": 4.179473,
     "end_time": "2022-07-21T12:56:11.336480",
     "exception": false,
     "start_time": "2022-07-21T12:56:07.157007",
     "status": "completed"
    },
    "pycharm": {
     "name": "#%%\n"
    },
    "tags": []
   },
   "outputs": [],
   "source": [
    "import os\n",
    "import gc\n",
    "import pathlib\n",
    "import numpy as np\n",
    "from PIL import Image\n",
    "import tensorflow as tf"
   ]
  },
  {
   "cell_type": "code",
   "execution_count": 5,
   "id": "177376b3",
   "metadata": {
    "execution": {
     "iopub.execute_input": "2022-07-21T12:56:12.826827Z",
     "iopub.status.busy": "2022-07-21T12:56:12.825757Z",
     "iopub.status.idle": "2022-07-21T12:56:13.061594Z",
     "shell.execute_reply": "2022-07-21T12:56:13.059889Z"
    },
    "executionInfo": {
     "elapsed": 634,
     "status": "ok",
     "timestamp": 1657211842788,
     "user": {
      "displayName": "Filippo Uslenghi",
      "userId": "02060675236977838476"
     },
     "user_tz": -120
    },
    "id": "tORwxj72lLGt",
    "outputId": "e18916b4-e12a-4b9d-d567-e2469d1a3b82",
    "papermill": {
     "duration": 1.724314,
     "end_time": "2022-07-21T12:56:13.065499",
     "exception": false,
     "start_time": "2022-07-21T12:56:11.341185",
     "status": "completed"
    },
    "pycharm": {
     "name": "#%%\n"
    },
    "tags": []
   },
   "outputs": [
    {
     "name": "stdout",
     "output_type": "stream",
     "text": [
      "Images in the dataset: 24997\n"
     ]
    }
   ],
   "source": [
    "# Define the directory of the dataset\n",
    "data_dir = pathlib.Path('CatsDogs/')\n",
    "\n",
    "# Remove corrupted files\n",
    "os.system(\"rm CatsDogs/Cats/666.jpg CatsDogs/Dogs/11702.jpg CatsDogs/Dogs/11410.jpg\")\n",
    "\n",
    "# Collects the path of all the files within the dataset\n",
    "data_paths = [str(path) for path in list(data_dir.glob(\"*/*.jpg\"))]\n",
    "print(f\"Images in the dataset: {len(data_paths)}\")"
   ]
  },
  {
   "cell_type": "code",
   "execution_count": 6,
   "id": "e736a409",
   "metadata": {
    "execution": {
     "iopub.execute_input": "2022-07-21T12:56:13.081817Z",
     "iopub.status.busy": "2022-07-21T12:56:13.081418Z",
     "iopub.status.idle": "2022-07-21T12:56:20.485316Z",
     "shell.execute_reply": "2022-07-21T12:56:20.484359Z"
    },
    "papermill": {
     "duration": 7.41461,
     "end_time": "2022-07-21T12:56:20.487797",
     "exception": false,
     "start_time": "2022-07-21T12:56:13.073187",
     "status": "completed"
    },
    "tags": []
   },
   "outputs": [
    {
     "name": "stderr",
     "output_type": "stream",
     "text": [
      "/opt/conda/lib/python3.7/site-packages/PIL/TiffImagePlugin.py:845: UserWarning: Truncated File Read\n",
      "  warnings.warn(str(msg))\n"
     ]
    }
   ],
   "source": [
    "# Convert non-jpeg images into jpeg files\n",
    "formats = [(path, Image.open(path).format) for path in data_paths]\n",
    "non_jpegs = list(filter(lambda x: x[1]!='JPEG', formats))\n",
    "for path, _ in non_jpegs:\n",
    "    img = Image.open(path)\n",
    "    img.convert('RGB').save(path, format='JPEG')"
   ]
  },
  {
   "cell_type": "code",
   "execution_count": 7,
   "id": "c8836e75",
   "metadata": {
    "execution": {
     "iopub.execute_input": "2022-07-21T12:56:20.499045Z",
     "iopub.status.busy": "2022-07-21T12:56:20.497620Z",
     "iopub.status.idle": "2022-07-21T12:56:20.505727Z",
     "shell.execute_reply": "2022-07-21T12:56:20.504685Z"
    },
    "executionInfo": {
     "elapsed": 8,
     "status": "ok",
     "timestamp": 1657211850149,
     "user": {
      "displayName": "Filippo Uslenghi",
      "userId": "02060675236977838476"
     },
     "user_tz": -120
    },
    "id": "UImc8RD4Ejlh",
    "outputId": "07af990f-15e4-40a9-e5ac-a0f77611f792",
    "papermill": {
     "duration": 0.015821,
     "end_time": "2022-07-21T12:56:20.508122",
     "exception": false,
     "start_time": "2022-07-21T12:56:20.492301",
     "status": "completed"
    },
    "pycharm": {
     "name": "#%%\n"
    },
    "tags": []
   },
   "outputs": [
    {
     "name": "stdout",
     "output_type": "stream",
     "text": [
      "['Cats' 'Dogs']\n"
     ]
    }
   ],
   "source": [
    "# Get the class names\n",
    "class_names = np.array(sorted([item.name for item in data_dir.glob('*') if item.name[0] != '.']))\n",
    "print(class_names)"
   ]
  },
  {
   "cell_type": "code",
   "execution_count": 8,
   "id": "281ff9b9",
   "metadata": {
    "execution": {
     "iopub.execute_input": "2022-07-21T12:56:20.518677Z",
     "iopub.status.busy": "2022-07-21T12:56:20.517853Z",
     "iopub.status.idle": "2022-07-21T12:56:20.527042Z",
     "shell.execute_reply": "2022-07-21T12:56:20.526214Z"
    },
    "id": "arSQzIey-4D4",
    "papermill": {
     "duration": 0.016251,
     "end_time": "2022-07-21T12:56:20.528942",
     "exception": false,
     "start_time": "2022-07-21T12:56:20.512691",
     "status": "completed"
    },
    "pycharm": {
     "name": "#%%\n"
    },
    "tags": []
   },
   "outputs": [],
   "source": [
    "def get_label(file_path):\n",
    "    # Convert the path to a list of path components\n",
    "    parts = tf.strings.split(file_path, os.path.sep)\n",
    "    # The second to last is the class-directory\n",
    "    one_hot = parts[-2] == class_names\n",
    "    # Integer encode the label\n",
    "    return tf.argmax(one_hot)\n",
    "\n",
    "def decode_img(img):\n",
    "    # Convert the compressed string to a 3D uint8 tensor\n",
    "    img = tf.io.decode_jpeg(img, channels=3)\n",
    "    # Resize the image to the desired size\n",
    "    return tf.image.resize(img, [img_height, img_width])\n",
    "\n",
    "def process_path(file_path):\n",
    "    label = get_label(file_path)\n",
    "    # Load the raw data from the file as a string\n",
    "    img = tf.io.read_file(file_path)\n",
    "    img = decode_img(img)\n",
    "    return img, label\n",
    "\n",
    "# Configure dataset for performance\n",
    "def configure_for_performance(ds):\n",
    "    ds = ds.shuffle(buffer_size=1000)\n",
    "    ds = ds.batch(batch_size)\n",
    "    ds = ds.prefetch(buffer_size=tf.data.AUTOTUNE)\n",
    "    return ds\n",
    "\n",
    "def zero_one_loss(dataset, dataset_size):\n",
    "    \n",
    "    _, accuracy = model.evaluate(dataset)\n",
    "    zero_one_loss = dataset_size*(1-accuracy)\n",
    "\n",
    "    return int(round(zero_one_loss, ndigits=0))"
   ]
  },
  {
   "cell_type": "code",
   "execution_count": 9,
   "id": "152c18f1",
   "metadata": {
    "execution": {
     "iopub.execute_input": "2022-07-21T12:56:20.538797Z",
     "iopub.status.busy": "2022-07-21T12:56:20.538546Z",
     "iopub.status.idle": "2022-07-21T12:56:20.543467Z",
     "shell.execute_reply": "2022-07-21T12:56:20.542624Z"
    },
    "id": "VXF62vBlJj9e",
    "papermill": {
     "duration": 0.011958,
     "end_time": "2022-07-21T12:56:20.545376",
     "exception": false,
     "start_time": "2022-07-21T12:56:20.533418",
     "status": "completed"
    },
    "pycharm": {
     "name": "#%%\n"
    },
    "tags": []
   },
   "outputs": [],
   "source": [
    "# Set initial params for the loader\n",
    "batch_size = 64\n",
    "img_height = 150\n",
    "img_width = 150"
   ]
  },
  {
   "cell_type": "code",
   "execution_count": 10,
   "id": "d33ed930",
   "metadata": {
    "execution": {
     "iopub.execute_input": "2022-07-21T12:56:20.555718Z",
     "iopub.status.busy": "2022-07-21T12:56:20.555479Z",
     "iopub.status.idle": "2022-07-21T12:56:24.712694Z",
     "shell.execute_reply": "2022-07-21T12:56:24.711709Z"
    },
    "papermill": {
     "duration": 4.164769,
     "end_time": "2022-07-21T12:56:24.715078",
     "exception": false,
     "start_time": "2022-07-21T12:56:20.550309",
     "status": "completed"
    },
    "tags": []
   },
   "outputs": [
    {
     "name": "stderr",
     "output_type": "stream",
     "text": [
      "2022-07-21 12:56:21.505467: I tensorflow/stream_executor/cuda/cuda_gpu_executor.cc:937] successful NUMA node read from SysFS had negative value (-1), but there must be at least one NUMA node, so returning NUMA node zero\n",
      "2022-07-21 12:56:21.606070: I tensorflow/stream_executor/cuda/cuda_gpu_executor.cc:937] successful NUMA node read from SysFS had negative value (-1), but there must be at least one NUMA node, so returning NUMA node zero\n",
      "2022-07-21 12:56:21.606850: I tensorflow/stream_executor/cuda/cuda_gpu_executor.cc:937] successful NUMA node read from SysFS had negative value (-1), but there must be at least one NUMA node, so returning NUMA node zero\n",
      "2022-07-21 12:56:21.608850: I tensorflow/core/platform/cpu_feature_guard.cc:142] This TensorFlow binary is optimized with oneAPI Deep Neural Network Library (oneDNN) to use the following CPU instructions in performance-critical operations:  AVX2 AVX512F FMA\n",
      "To enable them in other operations, rebuild TensorFlow with the appropriate compiler flags.\n",
      "2022-07-21 12:56:21.609260: I tensorflow/stream_executor/cuda/cuda_gpu_executor.cc:937] successful NUMA node read from SysFS had negative value (-1), but there must be at least one NUMA node, so returning NUMA node zero\n",
      "2022-07-21 12:56:21.610259: I tensorflow/stream_executor/cuda/cuda_gpu_executor.cc:937] successful NUMA node read from SysFS had negative value (-1), but there must be at least one NUMA node, so returning NUMA node zero\n",
      "2022-07-21 12:56:21.611138: I tensorflow/stream_executor/cuda/cuda_gpu_executor.cc:937] successful NUMA node read from SysFS had negative value (-1), but there must be at least one NUMA node, so returning NUMA node zero\n",
      "2022-07-21 12:56:23.455016: I tensorflow/stream_executor/cuda/cuda_gpu_executor.cc:937] successful NUMA node read from SysFS had negative value (-1), but there must be at least one NUMA node, so returning NUMA node zero\n",
      "2022-07-21 12:56:23.455906: I tensorflow/stream_executor/cuda/cuda_gpu_executor.cc:937] successful NUMA node read from SysFS had negative value (-1), but there must be at least one NUMA node, so returning NUMA node zero\n",
      "2022-07-21 12:56:23.456676: I tensorflow/stream_executor/cuda/cuda_gpu_executor.cc:937] successful NUMA node read from SysFS had negative value (-1), but there must be at least one NUMA node, so returning NUMA node zero\n",
      "2022-07-21 12:56:23.457296: I tensorflow/core/common_runtime/gpu/gpu_device.cc:1510] Created device /job:localhost/replica:0/task:0/device:GPU:0 with 15403 MB memory:  -> device: 0, name: Tesla P100-PCIE-16GB, pci bus id: 0000:00:04.0, compute capability: 6.0\n"
     ]
    },
    {
     "name": "stdout",
     "output_type": "stream",
     "text": [
      "Downloading data from https://storage.googleapis.com/tensorflow/keras-applications/vgg16/vgg16_weights_tf_dim_ordering_tf_kernels_notop.h5\n",
      "58892288/58889256 [==============================] - 0s 0us/step\n",
      "58900480/58889256 [==============================] - 0s 0us/step\n"
     ]
    }
   ],
   "source": [
    "# Load model VGG16\n",
    "conv_model = tf.keras.applications.vgg16.VGG16(\n",
    "    include_top=False,\n",
    "    weights='imagenet',\n",
    "    input_shape=(150,150,3),\n",
    ")\n",
    "\n",
    "conv_model.trainable = False"
   ]
  },
  {
   "cell_type": "markdown",
   "id": "84137fb8",
   "metadata": {
    "papermill": {
     "duration": 0.005137,
     "end_time": "2022-07-21T12:56:24.725690",
     "exception": false,
     "start_time": "2022-07-21T12:56:24.720553",
     "status": "completed"
    },
    "pycharm": {
     "name": "#%% md\n"
    },
    "tags": []
   },
   "source": [
    "# K-fold cross validation"
   ]
  },
  {
   "cell_type": "code",
   "execution_count": 11,
   "id": "3fee8658",
   "metadata": {
    "execution": {
     "iopub.execute_input": "2022-07-21T12:56:24.737484Z",
     "iopub.status.busy": "2022-07-21T12:56:24.736759Z",
     "iopub.status.idle": "2022-07-21T13:31:19.523327Z",
     "shell.execute_reply": "2022-07-21T13:31:19.522349Z"
    },
    "id": "69XJrMJsiR03",
    "papermill": {
     "duration": 2094.795311,
     "end_time": "2022-07-21T13:31:19.526094",
     "exception": false,
     "start_time": "2022-07-21T12:56:24.730783",
     "status": "completed"
    },
    "pycharm": {
     "name": "#%%\n"
    },
    "tags": []
   },
   "outputs": [
    {
     "name": "stderr",
     "output_type": "stream",
     "text": [
      "2022-07-21 12:56:26.344706: I tensorflow/compiler/mlir/mlir_graph_optimization_pass.cc:185] None of the MLIR Optimization Passes are enabled (registered 2)\n",
      "Corrupt JPEG data: 1153 extraneous bytes before marker 0xd9\n",
      "Corrupt JPEG data: 239 extraneous bytes before marker 0xd9\n",
      "2022-07-21 12:56:28.255630: I tensorflow/stream_executor/cuda/cuda_dnn.cc:369] Loaded cuDNN version 8005\n",
      "Corrupt JPEG data: 228 extraneous bytes before marker 0xd9\n",
      "Corrupt JPEG data: 214 extraneous bytes before marker 0xd9\n",
      "Corrupt JPEG data: 252 extraneous bytes before marker 0xd9\n",
      "Corrupt JPEG data: 99 extraneous bytes before marker 0xd9\n",
      "Corrupt JPEG data: 128 extraneous bytes before marker 0xd9\n",
      "Corrupt JPEG data: 162 extraneous bytes before marker 0xd9\n",
      "Warning: unknown JFIF revision number 0.00\n",
      "Corrupt JPEG data: 396 extraneous bytes before marker 0xd9\n",
      "Corrupt JPEG data: 2226 extraneous bytes before marker 0xd9\n"
     ]
    },
    {
     "name": "stdout",
     "output_type": "stream",
     "text": [
      " 9/79 [==>...........................] - ETA: 6s - loss: 0.2948 - accuracy: 0.9531"
     ]
    },
    {
     "name": "stderr",
     "output_type": "stream",
     "text": [
      "Corrupt JPEG data: 1403 extraneous bytes before marker 0xd9\n"
     ]
    },
    {
     "name": "stdout",
     "output_type": "stream",
     "text": [
      "43/79 [===============>..............] - ETA: 3s - loss: 0.2509 - accuracy: 0.9608"
     ]
    },
    {
     "name": "stderr",
     "output_type": "stream",
     "text": [
      "Corrupt JPEG data: 65 extraneous bytes before marker 0xd9\n"
     ]
    },
    {
     "name": "stdout",
     "output_type": "stream",
     "text": [
      "79/79 [==============================] - 8s 90ms/step - loss: 0.2881 - accuracy: 0.9550\n",
      "Zero-one loss: 225\n"
     ]
    },
    {
     "name": "stderr",
     "output_type": "stream",
     "text": [
      "Corrupt JPEG data: 99 extraneous bytes before marker 0xd9\n",
      "Corrupt JPEG data: 1403 extraneous bytes before marker 0xd9\n",
      "Corrupt JPEG data: 214 extraneous bytes before marker 0xd9\n",
      "Corrupt JPEG data: 252 extraneous bytes before marker 0xd9\n",
      "Corrupt JPEG data: 65 extraneous bytes before marker 0xd9\n",
      "Corrupt JPEG data: 162 extraneous bytes before marker 0xd9\n",
      "Corrupt JPEG data: 128 extraneous bytes before marker 0xd9\n",
      "Corrupt JPEG data: 228 extraneous bytes before marker 0xd9\n",
      "Corrupt JPEG data: 1153 extraneous bytes before marker 0xd9\n",
      "Corrupt JPEG data: 396 extraneous bytes before marker 0xd9\n"
     ]
    },
    {
     "name": "stdout",
     "output_type": "stream",
     "text": [
      " 1/79 [..............................] - ETA: 2:05 - loss: 0.2060 - accuracy: 0.9531"
     ]
    },
    {
     "name": "stderr",
     "output_type": "stream",
     "text": [
      "Warning: unknown JFIF revision number 0.00\n"
     ]
    },
    {
     "name": "stdout",
     "output_type": "stream",
     "text": [
      "26/79 [========>.....................] - ETA: 5s - loss: 0.2616 - accuracy: 0.9585"
     ]
    },
    {
     "name": "stderr",
     "output_type": "stream",
     "text": [
      "Corrupt JPEG data: 239 extraneous bytes before marker 0xd9\n"
     ]
    },
    {
     "name": "stdout",
     "output_type": "stream",
     "text": [
      "43/79 [===============>..............] - ETA: 3s - loss: 0.2823 - accuracy: 0.9528"
     ]
    },
    {
     "name": "stderr",
     "output_type": "stream",
     "text": [
      "Corrupt JPEG data: 2226 extraneous bytes before marker 0xd9\n"
     ]
    },
    {
     "name": "stdout",
     "output_type": "stream",
     "text": [
      "79/79 [==============================] - 9s 96ms/step - loss: 0.3223 - accuracy: 0.9518\n",
      "Zero-one loss: 241\n"
     ]
    },
    {
     "name": "stderr",
     "output_type": "stream",
     "text": [
      "Warning: unknown JFIF revision number 0.00\n",
      "Corrupt JPEG data: 2226 extraneous bytes before marker 0xd9\n",
      "Corrupt JPEG data: 252 extraneous bytes before marker 0xd9\n",
      "Corrupt JPEG data: 1403 extraneous bytes before marker 0xd9\n",
      "Corrupt JPEG data: 214 extraneous bytes before marker 0xd9\n",
      "Corrupt JPEG data: 162 extraneous bytes before marker 0xd9\n",
      "Corrupt JPEG data: 99 extraneous bytes before marker 0xd9\n",
      "Corrupt JPEG data: 396 extraneous bytes before marker 0xd9\n",
      "Corrupt JPEG data: 65 extraneous bytes before marker 0xd9\n",
      "Corrupt JPEG data: 128 extraneous bytes before marker 0xd9\n",
      "Corrupt JPEG data: 239 extraneous bytes before marker 0xd9\n",
      "Corrupt JPEG data: 1153 extraneous bytes before marker 0xd9\n"
     ]
    },
    {
     "name": "stdout",
     "output_type": "stream",
     "text": [
      "39/79 [=============>................] - ETA: 3s - loss: 0.3252 - accuracy: 0.9583"
     ]
    },
    {
     "name": "stderr",
     "output_type": "stream",
     "text": [
      "Corrupt JPEG data: 228 extraneous bytes before marker 0xd9\n"
     ]
    },
    {
     "name": "stdout",
     "output_type": "stream",
     "text": [
      "79/79 [==============================] - 7s 79ms/step - loss: 0.3204 - accuracy: 0.9558\n",
      "Zero-one loss: 221\n"
     ]
    },
    {
     "name": "stderr",
     "output_type": "stream",
     "text": [
      "Corrupt JPEG data: 1403 extraneous bytes before marker 0xd9\n",
      "Corrupt JPEG data: 65 extraneous bytes before marker 0xd9\n",
      "Corrupt JPEG data: 239 extraneous bytes before marker 0xd9\n",
      "Corrupt JPEG data: 99 extraneous bytes before marker 0xd9\n",
      "Corrupt JPEG data: 228 extraneous bytes before marker 0xd9\n",
      "Corrupt JPEG data: 2226 extraneous bytes before marker 0xd9\n",
      "Corrupt JPEG data: 128 extraneous bytes before marker 0xd9\n",
      "Warning: unknown JFIF revision number 0.00\n",
      "Corrupt JPEG data: 1153 extraneous bytes before marker 0xd9\n",
      "Corrupt JPEG data: 252 extraneous bytes before marker 0xd9\n"
     ]
    },
    {
     "name": "stdout",
     "output_type": "stream",
     "text": [
      " 2/79 [..............................] - ETA: 5s - loss: 0.2155 - accuracy: 0.9531  "
     ]
    },
    {
     "name": "stderr",
     "output_type": "stream",
     "text": [
      "Corrupt JPEG data: 396 extraneous bytes before marker 0xd9\n"
     ]
    },
    {
     "name": "stdout",
     "output_type": "stream",
     "text": [
      "44/79 [===============>..............] - ETA: 2s - loss: 0.3324 - accuracy: 0.9535"
     ]
    },
    {
     "name": "stderr",
     "output_type": "stream",
     "text": [
      "Corrupt JPEG data: 214 extraneous bytes before marker 0xd9\n"
     ]
    },
    {
     "name": "stdout",
     "output_type": "stream",
     "text": [
      "58/79 [=====================>........] - ETA: 1s - loss: 0.3110 - accuracy: 0.9531"
     ]
    },
    {
     "name": "stderr",
     "output_type": "stream",
     "text": [
      "Corrupt JPEG data: 162 extraneous bytes before marker 0xd9\n"
     ]
    },
    {
     "name": "stdout",
     "output_type": "stream",
     "text": [
      "79/79 [==============================] - 8s 81ms/step - loss: 0.3044 - accuracy: 0.9520\n",
      "Zero-one loss: 240\n"
     ]
    },
    {
     "name": "stderr",
     "output_type": "stream",
     "text": [
      "Corrupt JPEG data: 214 extraneous bytes before marker 0xd9\n",
      "Corrupt JPEG data: 1153 extraneous bytes before marker 0xd9\n",
      "Warning: unknown JFIF revision number 0.00\n",
      "Corrupt JPEG data: 1403 extraneous bytes before marker 0xd9\n",
      "Corrupt JPEG data: 239 extraneous bytes before marker 0xd9\n",
      "Corrupt JPEG data: 65 extraneous bytes before marker 0xd9\n",
      "Corrupt JPEG data: 162 extraneous bytes before marker 0xd9\n",
      "Corrupt JPEG data: 228 extraneous bytes before marker 0xd9\n",
      "Corrupt JPEG data: 2226 extraneous bytes before marker 0xd9\n",
      "Corrupt JPEG data: 396 extraneous bytes before marker 0xd9\n"
     ]
    },
    {
     "name": "stdout",
     "output_type": "stream",
     "text": [
      "10/79 [==>...........................] - ETA: 4s - loss: 0.1468 - accuracy: 0.9719"
     ]
    },
    {
     "name": "stderr",
     "output_type": "stream",
     "text": [
      "Corrupt JPEG data: 252 extraneous bytes before marker 0xd9\n"
     ]
    },
    {
     "name": "stdout",
     "output_type": "stream",
     "text": [
      "35/79 [============>.................] - ETA: 3s - loss: 0.2899 - accuracy: 0.9603"
     ]
    },
    {
     "name": "stderr",
     "output_type": "stream",
     "text": [
      "Corrupt JPEG data: 128 extraneous bytes before marker 0xd9\n"
     ]
    },
    {
     "name": "stdout",
     "output_type": "stream",
     "text": [
      "39/79 [=============>................] - ETA: 2s - loss: 0.3123 - accuracy: 0.9583"
     ]
    },
    {
     "name": "stderr",
     "output_type": "stream",
     "text": [
      "Corrupt JPEG data: 99 extraneous bytes before marker 0xd9\n"
     ]
    },
    {
     "name": "stdout",
     "output_type": "stream",
     "text": [
      "79/79 [==============================] - 7s 73ms/step - loss: 0.3443 - accuracy: 0.9560\n",
      "Zero-one loss: 220\n"
     ]
    }
   ],
   "source": [
    "from sklearn.model_selection import KFold\n",
    "\n",
    "\n",
    "k_fold = KFold(n_splits=5, shuffle=True)\n",
    "k_splits = k_fold.split(data_paths)\n",
    "results = []\n",
    "\n",
    "n_epochs = 20\n",
    "for train_index, test_index in k_splits:\n",
    "\n",
    "    # Get the paths to the data\n",
    "    train_paths = np.asarray(data_paths)[train_index]\n",
    "    test_paths = np.asarray(data_paths)[test_index]\n",
    "\n",
    "    # Make it tf.data.Dataset\n",
    "    train = tf.data.Dataset.from_tensor_slices(train_paths)\n",
    "    test = tf.data.Dataset.from_tensor_slices(test_paths)\n",
    "\n",
    "    # Shuffle the dataset\n",
    "    train = train.shuffle(len(train))\n",
    "    test = test.shuffle(len(test))\n",
    "\n",
    "    # Get labels\n",
    "    train = train.map(process_path, num_parallel_calls=tf.data.AUTOTUNE)\n",
    "    test = test.map(process_path, num_parallel_calls=tf.data.AUTOTUNE)\n",
    "    \n",
    "    # Configure for performance\n",
    "    train = configure_for_performance(train)\n",
    "    test = configure_for_performance(test)\n",
    "\n",
    "    # Create the model\n",
    "    model = tf.keras.Sequential([\n",
    "        conv_model,\n",
    "        tf.keras.layers.Flatten(),\n",
    "        tf.keras.layers.Dense(256, activation='relu'),\n",
    "        tf.keras.layers.Dropout(0.3),\n",
    "        tf.keras.layers.Dense(1, activation='sigmoid')\n",
    "    ])\n",
    "    \n",
    "    model.compile(\n",
    "        optimizer='adam',\n",
    "        loss='binary_crossentropy',\n",
    "        metrics=['accuracy']\n",
    "    )\n",
    "\n",
    "    model.fit(\n",
    "        train,\n",
    "        epochs=n_epochs,\n",
    "        verbose=0,\n",
    "    )\n",
    "\n",
    "    loss = zero_one_loss(test, len(test_paths))\n",
    "    results.append(loss)\n",
    "    print(f\"Zero-one loss: {loss}\")\n",
    "\n",
    "    # Clear any previous state\n",
    "    del model\n",
    "    tf.keras.backend.clear_session()\n",
    "    gc.collect()"
   ]
  },
  {
   "cell_type": "code",
   "execution_count": 12,
   "id": "88c22a8e",
   "metadata": {
    "execution": {
     "iopub.execute_input": "2022-07-21T13:31:19.636829Z",
     "iopub.status.busy": "2022-07-21T13:31:19.635738Z",
     "iopub.status.idle": "2022-07-21T13:31:19.645792Z",
     "shell.execute_reply": "2022-07-21T13:31:19.644885Z"
    },
    "id": "Z5LsUvuXDG9g",
    "papermill": {
     "duration": 0.069485,
     "end_time": "2022-07-21T13:31:19.649601",
     "exception": false,
     "start_time": "2022-07-21T13:31:19.580116",
     "status": "completed"
    },
    "pycharm": {
     "name": "#%%\n"
    },
    "tags": []
   },
   "outputs": [
    {
     "name": "stdout",
     "output_type": "stream",
     "text": [
      "The mean of zero-one loss is 229, with a standard deviation of 9 missmatched samples\n"
     ]
    }
   ],
   "source": [
    "mean_loss = np.round(np.mean(results), decimals=0)\n",
    "std_loss = np.round(np.std(results), decimals=0)\n",
    "print(f'The mean of zero-one loss is {int(mean_loss)}, with a standard deviation of {int(std_loss)} missmatched samples')"
   ]
  }
 ],
 "metadata": {
  "kernelspec": {
   "display_name": "Python 3.8.13 ('audio2')",
   "language": "python",
   "name": "python3"
  },
  "language_info": {
   "codemirror_mode": {
    "name": "ipython",
    "version": 3
   },
   "file_extension": ".py",
   "mimetype": "text/x-python",
   "name": "python",
   "nbconvert_exporter": "python",
   "pygments_lexer": "ipython3",
   "version": "3.8.13"
  },
  "papermill": {
   "default_parameters": {},
   "duration": 2183.333101,
   "end_time": "2022-07-21T13:31:23.519304",
   "environment_variables": {},
   "exception": null,
   "input_path": "__notebook__.ipynb",
   "output_path": "__notebook__.ipynb",
   "parameters": {},
   "start_time": "2022-07-21T12:55:00.186203",
   "version": "2.3.4"
  },
  "vscode": {
   "interpreter": {
    "hash": "e2f4808f3cb662d264b688fcdafc403f32cc11f6f502b44dddc2fe8331465723"
   }
  }
 },
 "nbformat": 4,
 "nbformat_minor": 5
}
