{
 "cells": [
  {
   "cell_type": "code",
   "execution_count": 1,
   "metadata": {
    "pycharm": {
     "is_executing": true,
     "name": "#%%\n"
    }
   },
   "outputs": [],
   "source": [
    "import os\n",
    "import numpy as np\n",
    "from PIL import Image, ImageOps"
   ]
  },
  {
   "cell_type": "code",
   "execution_count": 2,
   "metadata": {
    "pycharm": {
     "name": "#%%\n"
    }
   },
   "outputs": [],
   "source": [
    "def listdir(path):\n",
    "    for f in sorted(os.listdir(path)):\n",
    "        if not f.startswith('.'):\n",
    "            yield f"
   ]
  },
  {
   "cell_type": "code",
   "execution_count": 3,
   "metadata": {
    "pycharm": {
     "name": "#%%\n"
    }
   },
   "outputs": [],
   "source": [
    "def load_dataset():\n",
    "    classes = ['Cats', 'Dogs']\n",
    "    data = []\n",
    "    labels = []\n",
    "    for i, c in enumerate(classes):\n",
    "        path = os.path.join('dataset', c)\n",
    "        for f in listdir(path):\n",
    "            try:\n",
    "                img = Image.open(os.path.join(path, f))\n",
    "                img_data = np.asarray(ImageOps.grayscale(img))\n",
    "            except:\n",
    "                print(i, f)\n",
    "                continue\n",
    "            data.append(img_data)\n",
    "            labels.append(i)\n",
    "    labels = np.asarray(labels, dtype='byte')\n",
    "    return data, labels"
   ]
  },
  {
   "cell_type": "code",
   "execution_count": 4,
   "metadata": {
    "pycharm": {
     "name": "#%%\n"
    }
   },
   "outputs": [
    {
     "name": "stderr",
     "output_type": "stream",
     "text": [
      "/Users/filippouslenghi/miniconda3/envs/stat/lib/python3.9/site-packages/PIL/TiffImagePlugin.py:822: UserWarning: Truncated File Read\n",
      "  warnings.warn(str(msg))\n"
     ]
    }
   ],
   "source": [
    "data, labels = load_dataset()"
   ]
  },
  {
   "cell_type": "code",
   "execution_count": 5,
   "metadata": {
    "pycharm": {
     "name": "#%%\n"
    }
   },
   "outputs": [],
   "source": [
    "def find_max_dim(data:list) -> (int, int):\n",
    "    \"\"\"\n",
    "    Returns the max value of each dimension from the images in the list\n",
    "\n",
    "    :param data:\n",
    "    :return: tuple of int: (heigth, width)\n",
    "    \"\"\"\n",
    "    max_height = max([image.shape[0] for image in data])\n",
    "    max_width = max([image.shape[1] for image in data])\n",
    "\n",
    "    return max_height, max_width"
   ]
  },
  {
   "cell_type": "code",
   "execution_count": 7,
   "metadata": {},
   "outputs": [],
   "source": [
    "max_height, max_width = find_max_dim(data)\n",
    "mapped_data = map(lambda image: np.pad(image, ((0, max_height-image.shape[0]),(0, max_width-image.shape[1])), 'constant', constant_values = 0), data)\n",
    "data = list(mapped_data)"
   ]
  },
  {
   "cell_type": "code",
   "execution_count": 8,
   "metadata": {},
   "outputs": [],
   "source": [
    "data = np.dstack(data)\n",
    "data.shape"
   ]
  },
  {
   "cell_type": "code",
   "execution_count": 14,
   "metadata": {
    "scrolled": true
   },
   "outputs": [],
   "source": [
    "data = data.astype('float16')/255"
   ]
  },
  {
   "cell_type": "code",
   "execution_count": 15,
   "metadata": {},
   "outputs": [
    {
     "name": "stdout",
     "output_type": "stream",
     "text": [
      "[[[0.655  0.153  0.1137 ... 0.1647 0.9883 0.9453]\n",
      "  [0.655  0.1569 0.1059 ... 0.2    0.9883 0.957 ]\n",
      "  [0.6587 0.1608 0.0902 ... 0.2196 0.9883 0.965 ]\n",
      "  ...\n",
      "  [0.8    0.     0.     ... 0.306  0.     0.    ]\n",
      "  [0.796  0.     0.     ... 0.2627 0.     0.    ]\n",
      "  [0.792  0.     0.     ... 0.2432 0.     0.    ]]\n",
      "\n",
      " [[0.655  0.1608 0.1294 ... 0.1686 0.992  0.949 ]\n",
      "  [0.655  0.1647 0.1255 ... 0.1765 0.992  0.957 ]\n",
      "  [0.6587 0.1647 0.1137 ... 0.1765 0.9883 0.961 ]\n",
      "  ...\n",
      "  [0.8    0.     0.     ... 0.2783 0.     0.    ]\n",
      "  [0.796  0.     0.     ... 0.2471 0.     0.    ]\n",
      "  [0.796  0.     0.     ... 0.2354 0.     0.    ]]\n",
      "\n",
      " [[0.655  0.1726 0.1372 ... 0.149  0.996  0.9883]\n",
      "  [0.655  0.1726 0.149  ... 0.1412 0.996  0.992 ]\n",
      "  [0.6587 0.1726 0.153  ... 0.1294 0.992  0.992 ]\n",
      "  ...\n",
      "  [0.8037 0.     0.     ... 0.2783 0.     0.    ]\n",
      "  [0.8    0.     0.     ... 0.2471 0.     0.    ]\n",
      "  [0.796  0.     0.     ... 0.2354 0.     0.    ]]\n",
      "\n",
      " ...\n",
      "\n",
      " [[0.     0.     0.5605 ... 0.     0.3647 0.    ]\n",
      "  [0.     0.     0.5566 ... 0.     0.353  0.    ]\n",
      "  [0.     0.     0.533  ... 0.     0.349  0.    ]\n",
      "  ...\n",
      "  [0.     0.     0.     ... 0.     0.     0.    ]\n",
      "  [0.     0.     0.     ... 0.     0.     0.    ]\n",
      "  [0.     0.     0.     ... 0.     0.     0.    ]]\n",
      "\n",
      " [[0.     0.     0.5527 ... 0.     0.353  0.    ]\n",
      "  [0.     0.     0.5527 ... 0.     0.349  0.    ]\n",
      "  [0.     0.     0.541  ... 0.     0.349  0.    ]\n",
      "  ...\n",
      "  [0.     0.     0.     ... 0.     0.     0.    ]\n",
      "  [0.     0.     0.     ... 0.     0.     0.    ]\n",
      "  [0.     0.     0.     ... 0.     0.     0.    ]]\n",
      "\n",
      " [[0.     0.     0.565  ... 0.     0.3765 0.    ]\n",
      "  [0.     0.     0.5605 ... 0.     0.3608 0.    ]\n",
      "  [0.     0.     0.5566 ... 0.     0.3372 0.    ]\n",
      "  ...\n",
      "  [0.     0.     0.     ... 0.     0.     0.    ]\n",
      "  [0.     0.     0.     ... 0.     0.     0.    ]\n",
      "  [0.     0.     0.     ... 0.     0.     0.    ]]]\n",
      "(500, 500, 24991)\n"
     ]
    }
   ],
   "source": [
    "print(data)\n",
    "print(data.shape)"
   ]
  },
  {
   "cell_type": "code",
   "execution_count": 16,
   "metadata": {},
   "outputs": [],
   "source": [
    "np.save(\"data_16\", data, allow_pickle = False)\n",
    "np.save(\"labels\", labels, allow_pickle = False)"
   ]
  }
 ],
 "metadata": {
  "kernelspec": {
   "display_name": "Python 3 (ipykernel)",
   "language": "python",
   "name": "python3"
  },
  "language_info": {
   "codemirror_mode": {
    "name": "ipython",
    "version": 3
   },
   "file_extension": ".py",
   "mimetype": "text/x-python",
   "name": "python",
   "nbconvert_exporter": "python",
   "pygments_lexer": "ipython3",
   "version": "3.9.12"
  }
 },
 "nbformat": 4,
 "nbformat_minor": 1
}
